{
 "cells": [
  {
   "cell_type": "markdown",
   "metadata": {},
   "source": [
    "# **Fiber photometry of SNr GABAergic neurons during optogenetic stimulation of STN and PPN inputs in freely moving mice**\n",
    "\n",
    "This tutorial shows how to access and process data from [DANDI:001528](https://dandiarchive.org/dandiset/001528/draft) for the study detailed in [*\"Parkinson's Disease-vulnerable and -resilient dopamine neurons display opposite responses to excitatory input\"*](https://www.biorxiv.org/content/10.1101/2025.06.03.657460v1)\n",
    "\n",
    "## Study Overview\n",
    "\n",
    "This dataset contains fiber photometry recordings from substantia nigra (SN) GABAergic neurons in freely moving mice during:\n",
    "- **Day 1**: Varying duration optogenetic stimulation (250ms, 1s, 4s at 40Hz)\n",
    "- **Day 2**: Varying frequency optogenetic stimulation (5Hz, 10Hz, 20Hz, 40Hz)\n",
    "- **Day 3**: Electrical shock delivery (varying durations)\n",
    "\n",
    "## Contents\n",
    "\n",
    "1. [Setup and Data Access](#setup)\n",
    "2. [Session and Subject Metadata](#metadata)\n",
    "3. [Fiber Photometry Data and Metadata](#photometry)\n",
    "4. [Behavioral Video](#video)\n",
    "5. [Session Type 1: Varying Duration Optogenetic Stimulation](#session1)\n",
    "6. [Session Type 2: Varying Frequency Optogenetic Stimulation](#session2)\n",
    "7. [Session Type 3: Electrical Shock Delivery](#session3)\n",
    "\n",
    "---"
   ]
  },
  {
   "cell_type": "markdown",
   "metadata": {},
   "source": [
    "# 1. Setup and Data Access <a id=\"setup\"></a>\n",
    "\n",
    "## Import Required Libraries"
   ]
  },
  {
   "cell_type": "code",
   "execution_count": null,
   "metadata": {},
   "outputs": [],
   "source": [
    "# Core data manipulation and analysis\n",
    "from pathlib import Path\n",
    "\n",
    "import h5py\n",
    "\n",
    "# Visualization\n",
    "import matplotlib.pyplot as plt\n",
    "import numpy as np\n",
    "import remfile\n",
    "from dandi.dandiapi import DandiAPIClient\n",
    "\n",
    "# NWB and DANDI access\n",
    "from pynwb import NWBHDF5IO\n",
    "\n",
    "# Configure matplotlib\n",
    "plt.rcParams['figure.figsize'] = (12, 6)\n",
    "plt.rcParams['font.size'] = 10"
   ]
  },
  {
   "cell_type": "markdown",
   "metadata": {},
   "source": [
    "## Data Access Functions"
   ]
  },
  {
   "cell_type": "code",
   "execution_count": null,
   "metadata": {},
   "outputs": [],
   "source": [
    "def load_nwb_from_dandi(dandiset_id, subject_id, session_id):\n",
    "    \"\"\"\n",
    "    Load NWB file from DANDI Archive via streaming.\n",
    "    \"\"\"\n",
    "    pattern = f\"sub-{subject_id}/sub-{subject_id}_ses-{session_id}*.nwb\"\n",
    "    \n",
    "    with DandiAPIClient() as client:\n",
    "        client.dandi_authenticate()\n",
    "        assets = client.get_dandiset(dandiset_id, \"draft\").get_assets_by_glob(\n",
    "            pattern=pattern, order=\"path\"\n",
    "        )\n",
    "        \n",
    "        s3_urls = []\n",
    "        for asset in assets:\n",
    "            s3_url = asset.get_content_url(follow_redirects=1, strip_query=False)\n",
    "            s3_urls.append(s3_url)\n",
    "        \n",
    "        if len(s3_urls) != 1:\n",
    "            raise ValueError(f\"Expected 1 file, found {len(s3_urls)} for pattern {pattern}\")\n",
    "        \n",
    "        s3_url = s3_urls[0]\n",
    "    \n",
    "    file = remfile.File(s3_url)\n",
    "    h5_file = h5py.File(file, \"r\")\n",
    "    io = NWBHDF5IO(file=h5_file, load_namespaces=True)\n",
    "    nwbfile = io.read()\n",
    "    \n",
    "    return nwbfile, io\n",
    "\n",
    "\n",
    "def load_nwb_local(directory_path, subject_id, session_id):\n",
    "    \"\"\"\n",
    "    Load NWB file from local directory.\n",
    "    \"\"\"\n",
    "    directory_path = Path(directory_path)\n",
    "    nwbfile_path = directory_path / f\"sub-{subject_id}_ses-{session_id}.nwb\"\n",
    "    \n",
    "    if not nwbfile_path.exists():\n",
    "        raise FileNotFoundError(f\"NWB file not found: {nwbfile_path}\")\n",
    "    \n",
    "    io = NWBHDF5IO(path=nwbfile_path, load_namespaces=True)\n",
    "    nwbfile = io.read()\n",
    "    \n",
    "    return nwbfile, io"
   ]
  },
  {
   "cell_type": "markdown",
   "metadata": {},
   "source": [
    "---\n",
    "\n",
    "# 2. Session and Subject Metadata <a id=\"metadata\"></a>"
   ]
  },
  {
   "cell_type": "code",
   "execution_count": null,
   "metadata": {},
   "outputs": [],
   "source": [
    "# Load session data\n",
    "dandiset_id = \"001528\"\n",
    "subject_id = \"C4561\"  # Example subject\n",
    "session_id = \"varying-duration\"  # Start with first session type\n",
    "\n",
    "# Choose data source (DANDI streaming or local)\n",
    "USE_DANDI = True  # Set to False to use local files\n",
    "\n",
    "if USE_DANDI:\n",
    "    nwbfile, io = load_nwb_from_dandi(dandiset_id, subject_id, session_id)\n",
    "else:\n",
    "    # Specify your local directory path\n",
    "    local_directory = \"YOUR_DIRECTORY_PATH\"  # Replace with actual path\n",
    "    nwbfile, io = load_nwb_local(local_directory, subject_id, session_id)\n",
    "\n",
    "print(\"=== SESSION INFORMATION ===\")\n",
    "print(f\"Session description: {nwbfile.session_description}\")\n",
    "print(f\"Session start time: {nwbfile.session_start_time}\")\n",
    "print(f\"Experiment description: {nwbfile.experiment_description}\")"
   ]
  },
  {
   "cell_type": "code",
   "execution_count": null,
   "metadata": {},
   "outputs": [],
   "source": [
    "print(\"\\n=== SUBJECT INFORMATION ===\")\n",
    "nwbfile.subject"
   ]
  },
  {
   "cell_type": "markdown",
   "metadata": {},
   "source": [
    "---\n",
    "\n",
    "# 3. Fiber Photometry Data and Metadata <a id=\"photometry\"></a>"
   ]
  },
  {
   "cell_type": "code",
   "execution_count": null,
   "metadata": {},
   "outputs": [],
   "source": [
    "# Access raw fiber photometry data\n",
    "raw_signal = nwbfile.acquisition[\"raw_modulated_signal\"]\n",
    "\n",
    "print(\"=== RAW FIBER PHOTOMETRY SIGNAL ===\")\n",
    "print(f\"Description: {raw_signal.description}\")\n",
    "print(f\"Data shape: {raw_signal.data.shape}\")\n",
    "print(f\"Sampling rate: {raw_signal.rate} Hz\")\n",
    "print(f\"Duration: {raw_signal.data.shape[0] / raw_signal.rate:.2f} seconds\")"
   ]
  },
  {
   "cell_type": "code",
   "execution_count": null,
   "metadata": {},
   "outputs": [],
   "source": [
    "# Plot raw acquisition signal (simple view)\n",
    "data = raw_signal.data[:]\n",
    "timestamps = raw_signal.get_timestamps()\n",
    "\n",
    "# Show first 30 seconds\n",
    "end_idx = int(30 * raw_signal.rate)\n",
    "time_subset = timestamps[:end_idx]\n",
    "data_subset = data[:end_idx]\n",
    "\n",
    "plt.figure(figsize=(15, 2))\n",
    "plt.plot(time_subset, data_subset, linewidth=0.5)\n",
    "plt.xlabel('Time (s)')\n",
    "plt.ylabel('Fluorescence (a.u.)')\n",
    "plt.title('Raw Modulated Fiber Photometry Signal (first 30 seconds)')\n",
    "plt.grid(True, alpha=0.3)\n",
    "plt.show()"
   ]
  },
  {
   "cell_type": "code",
   "execution_count": null,
   "metadata": {},
   "outputs": [],
   "source": [
    "# Access fiber photometry metadata\n",
    "fiber_photometry_table = nwbfile.lab_meta_data[\"fiber_photometry\"].fiber_photometry_table[:]\n",
    "print(\"=== FIBER PHOTOMETRY METADATA ===\")\n",
    "print(f\"Optical fiber: {fiber_photometry_table['optical_fiber'][0]}\")\n",
    "print(f\"Indicator: {fiber_photometry_table['indicator'][0]}\")\n",
    "print(f\"Excitation source: {fiber_photometry_table['excitation_source'][0]}\")\n",
    "print(f\"Photodetector: {fiber_photometry_table['photodetector'][0]}\")"
   ]
  },
  {
   "cell_type": "markdown",
   "metadata": {},
   "source": [
    "---\n",
    "\n",
    "# 4. Behavioral Video <a id=\"video\"></a>"
   ]
  },
  {
   "cell_type": "code",
   "execution_count": null,
   "metadata": {},
   "outputs": [],
   "source": [
    "# Access behavioral video information\n",
    "if \"BehavioralVideo\" in nwbfile.acquisition:\n",
    "    video = nwbfile.acquisition[\"BehavioralVideo\"]\n",
    "\n",
    "    print(\"=== BEHAVIORAL VIDEO ===\")\n",
    "    print(f\"Video file path: {video.external_file[0]}\")\n",
    "    print(f\"Description: {video.description}\")\n",
    "    print(f\"Video start: {video.timestamps[0]} seconds\")\n",
    "    print(f\"Video end: {video.timestamps[-1]} seconds\")\n",
    "else:\n",
    "    print(\"No behavioral video found in this session.\")"
   ]
  },
  {
   "cell_type": "code",
   "execution_count": null,
   "metadata": {},
   "outputs": [],
   "source": [
    "video.device  # Display video device information"
   ]
  },
  {
   "cell_type": "markdown",
   "metadata": {},
   "source": [
    "---\n",
    "\n",
    "# 5. Session Type 1: Varying Duration Optogenetic Stimulation <a id=\"session1\"></a>\n",
    "\n",
    "This session contains 40 Hz optogenetic stimulation at three different durations: 250ms, 1s, and 4s."
   ]
  },
  {
   "cell_type": "code",
   "execution_count": null,
   "metadata": {},
   "outputs": [],
   "source": [
    "# Access optogenetic stimulation data\n",
    "optogenetic_intervals = nwbfile.stimulus[\"optogenetic_stimulus_interval\"]\n",
    "intervals_df = optogenetic_intervals.to_dataframe()\n",
    "\n",
    "print(\"=== OPTOGENETIC STIMULATION INTERVALS ===\")\n",
    "print(f\"Total number of stimuli: {len(intervals_df)}\")\n",
    "print(\"\\nFirst 5 intervals:\")\n",
    "intervals_df.head()"
   ]
  },
  {
   "cell_type": "code",
   "execution_count": null,
   "metadata": {},
   "outputs": [],
   "source": [
    "# Access demodulated signals\n",
    "module = nwbfile.processing[\"ophys\"]\n",
    "calcium_signal = module[\"calcium_signal\"]\n",
    "isosbestic_signal = module[\"isosbestic_signal\"]\n",
    "\n",
    "# Get signal data\n",
    "calcium_data = calcium_signal.data[:]\n",
    "isosbestic_data = isosbestic_signal.data[:]\n",
    "rate = calcium_signal.rate\n",
    "start_time = calcium_signal.starting_time\n",
    "timestamps = start_time + np.arange(len(calcium_data)) / rate\n",
    "\n",
    "print(f\"Demodulated calcium signal duration: {len(calcium_data) / rate:.2f} seconds\")\n",
    "print(f\"Sampling rate: {rate:.2f} Hz\")"
   ]
  },
  {
   "cell_type": "markdown",
   "metadata": {},
   "source": [
    "Associated metadata"
   ]
  },
  {
   "cell_type": "code",
   "execution_count": null,
   "metadata": {},
   "outputs": [],
   "source": [
    "calcium_signal.fiber_photometry_table_region[0][\"excitation_source\"][0]"
   ]
  },
  {
   "cell_type": "code",
   "execution_count": null,
   "metadata": {},
   "outputs": [],
   "source": [
    "calcium_signal.fiber_photometry_table_region[0][\"optical_fiber\"][0]"
   ]
  },
  {
   "cell_type": "code",
   "execution_count": null,
   "metadata": {},
   "outputs": [],
   "source": [
    "calcium_signal.fiber_photometry_table_region[0][\"photodetector\"][0]"
   ]
  },
  {
   "cell_type": "code",
   "execution_count": null,
   "metadata": {},
   "outputs": [],
   "source": [
    "# Plot optogenetic stimulation and demodulated signal together\n",
    "fig, ax = plt.subplots(1, 1, figsize=(14, 6))\n",
    "\n",
    "# Plot demodulated calcium signal\n",
    "ax.plot(timestamps, calcium_data, color=\"blue\", linewidth=0.8, alpha=0.8, label=\"Calcium Signal\")\n",
    "ax.plot(timestamps, isosbestic_data, color=\"red\", linewidth=0.8, alpha=0.6, label=\"Isosbestic Signal\")\n",
    "ax.set_xlabel('Time (s)')\n",
    "ax.set_ylabel('Demodulated Signal (a.u.)')\n",
    "ax.set_title('Demodulated Calcium Signal with Optogenetic Stimulation (40 Hz, Varying Duration)')\n",
    "ax.grid(True, alpha=0.3)\n",
    "ax.legend()\n",
    "\n",
    "# Add stimulus intervals as faded boxes over the signal\n",
    "duration_colors = {0.25: 'red', 1.0: 'blue', 4.0: 'green'}\n",
    "duration_labels = {0.25: \"250ms stimulus\", 1.0: \"1s stimulus\", 4.0: \"4s stimulus\"}\n",
    "\n",
    "for i, row in intervals_df.iterrows():\n",
    "    duration = row['stop_time'] - row['start_time']\n",
    "    # Round duration to nearest expected value for color mapping\n",
    "    rounded_duration = round(duration * 4) / 4  # Round to nearest 0.25\n",
    "    color = duration_colors.get(rounded_duration, 'gray')\n",
    "    ax.axvspan(\n",
    "        row[\"start_time\"],\n",
    "        row[\"stop_time\"],\n",
    "        color=color,\n",
    "        alpha=0.2,\n",
    "        label=duration_labels.get(rounded_duration, f\"{rounded_duration}s\"),\n",
    "    )\n",
    "    # Remove duplicate legend entries\n",
    "    handles, labels = ax.get_legend_handles_labels()\n",
    "    by_label = dict(zip(labels, handles))\n",
    "    ax.legend(by_label.values(), by_label.keys())\n",
    "plt.tight_layout()\n",
    "plt.show()"
   ]
  },
  {
   "cell_type": "markdown",
   "metadata": {},
   "source": [
    "---\n",
    "\n",
    "# 6. Session Type 2: Varying Frequency Optogenetic Stimulation <a id=\"session2\"></a>\n",
    "\n",
    "This session contains optogenetic stimulation at varying frequencies (5Hz, 10Hz, 20Hz, 40Hz)."
   ]
  },
  {
   "cell_type": "code",
   "execution_count": null,
   "metadata": {},
   "outputs": [],
   "source": [
    "# Load varying frequency session\n",
    "session_id_freq = \"varying-frequencies\"\n",
    "\n",
    "if USE_DANDI:\n",
    "    nwbfile_freq, io_freq = load_nwb_from_dandi(dandiset_id, subject_id, session_id_freq)\n",
    "else:\n",
    "    nwbfile_freq, io_freq = load_nwb_local(local_directory, subject_id, session_id_freq)\n",
    "\n",
    "print(f\"Loaded session: {nwbfile_freq.session_description}\")"
   ]
  },
  {
   "cell_type": "markdown",
   "metadata": {},
   "source": [
    "### Access trial table"
   ]
  },
  {
   "cell_type": "code",
   "execution_count": null,
   "metadata": {},
   "outputs": [],
   "source": [
    "trials_freq_df = nwbfile_freq.trials.to_dataframe()\n",
    "print(\"=== TRIALS TABLE ===\")\n",
    "print(f\"Total number of trials: {len(trials_freq_df)}\")\n",
    "trials_freq_df"
   ]
  },
  {
   "cell_type": "markdown",
   "metadata": {},
   "source": [
    "### Access optogenetic stimulus"
   ]
  },
  {
   "cell_type": "code",
   "execution_count": null,
   "metadata": {},
   "outputs": [],
   "source": [
    "# Access frequency session data\n",
    "optogenetic_intervals_freq = nwbfile_freq.stimulus[\"optogenetic_stimulus_interval\"]\n",
    "intervals_freq_df = optogenetic_intervals_freq.to_dataframe()\n",
    "\n",
    "print(\"=== VARYING FREQUENCY STIMULATION ===\")\n",
    "print(f\"Total number of stimuli: {len(intervals_freq_df)}\")\n",
    "print(\"\\nFirst 5 intervals:\")\n",
    "intervals_freq_df.sort_values(by='start_time', inplace=True)\n",
    "intervals_freq_df.head()"
   ]
  },
  {
   "cell_type": "markdown",
   "metadata": {},
   "source": [
    "### Access demodulated signal"
   ]
  },
  {
   "cell_type": "code",
   "execution_count": null,
   "metadata": {},
   "outputs": [],
   "source": [
    "module_freq = nwbfile_freq.processing[\"ophys\"]\n",
    "calcium_signal_freq = module_freq[\"calcium_signal\"]\n",
    "calcium_data_freq = calcium_signal_freq.data[:]\n",
    "isosbestic_data_freq = module_freq[\"isosbestic_signal\"].data[:]\n",
    "rate_freq = calcium_signal_freq.rate\n",
    "start_time_freq = calcium_signal_freq.starting_time\n",
    "timestamps_freq = start_time_freq + np.arange(len(calcium_data_freq)) / rate_freq"
   ]
  },
  {
   "cell_type": "code",
   "execution_count": null,
   "metadata": {},
   "outputs": [],
   "source": [
    "# Plot optogenetic stimulation and demodulated signal together\n",
    "fig, axs = plt.subplots(3, 1, figsize=(14, 6))\n",
    "\n",
    "# Plot first trial\n",
    "for i in range(3):\n",
    "    trial_start_time = trials_freq_df.iloc[i][\"start_time\"]\n",
    "    trial_end_time = trials_freq_df.iloc[i][\"stop_time\"]\n",
    "    tag = trials_freq_df.iloc[i][\"tags\"]\n",
    "    timestamps = timestamps_freq[(timestamps_freq >= trial_start_time) & (timestamps_freq <= trial_end_time)]\n",
    "    calcium_data = calcium_data_freq[(timestamps_freq >= trial_start_time) & (timestamps_freq <= trial_end_time)]\n",
    "    isosbestic_data = isosbestic_data_freq[(timestamps_freq >= trial_start_time) & (timestamps_freq <= trial_end_time)]\n",
    "    # Plot demodulated calcium signal\n",
    "    axs[i].plot(timestamps, calcium_data, color=\"blue\", linewidth=0.8, alpha=0.8, label=\"Calcium Signal\")\n",
    "    axs[i].plot(timestamps, isosbestic_data, color=\"red\", linewidth=0.8, alpha=0.6, label=\"Isosbestic Signal\")\n",
    "    axs[i].set_xlabel(\"Time (s)\")\n",
    "    axs[i].set_ylabel(\"Demodulated Signal (a.u.)\")\n",
    "    axs[i].set_title(f\"Demodulated Calcium Signal with Optogenetic Stimulation ({tag}, Varying Frequencies)\")\n",
    "    axs[i].grid(True, alpha=0.3)\n",
    "\n",
    "    # Add stimulus intervals as faded boxes over the signal\n",
    "    frequency_colors = {5.0: \"red\", 10.0: \"blue\", 20.0: \"green\", 40.0: \"yellow\"}\n",
    "    frequency_labels = {5.0: \"5Hz stimulus\", 10.0: \"10Hz stimulus\", 20.0: \"20Hz stimulus\", 40.0: \"40Hz stimulus\"}\n",
    "\n",
    "    for r, row in intervals_freq_df.iterrows():\n",
    "        # select rows within the trial time\n",
    "        if not (row[\"start_time\"] >= trial_start_time and row[\"stop_time\"] <= trial_end_time):\n",
    "            continue\n",
    "        frequency = row[\"stimulus_frequency\"]\n",
    "        color = frequency_colors.get(frequency, \"gray\")\n",
    "        axs[i].axvspan(\n",
    "            row[\"start_time\"],\n",
    "            row[\"stop_time\"],\n",
    "            color=color,\n",
    "            alpha=0.2,\n",
    "            label=frequency_labels.get(frequency, f\"{frequency}Hz\"),\n",
    "        )\n",
    "\n",
    "    handles, labels = axs[i].get_legend_handles_labels()\n",
    "    by_label = dict(zip(labels, handles))\n",
    "    axs[0].legend(by_label.values(), by_label.keys())\n",
    "\n",
    "plt.tight_layout()\n",
    "plt.show()"
   ]
  },
  {
   "cell_type": "markdown",
   "metadata": {},
   "source": [
    "---\n",
    "\n",
    "# 7. Session Type 3: Electrical Shock Delivery <a id=\"session3\"></a>\n",
    "\n",
    "This session contains uncued electrical shocks at varying durations."
   ]
  },
  {
   "cell_type": "code",
   "execution_count": null,
   "metadata": {},
   "outputs": [],
   "source": [
    "# Load shock session\n",
    "session_id_shock = \"shock\"\n",
    "\n",
    "if USE_DANDI:\n",
    "    nwbfile_shock, io_shock = load_nwb_from_dandi(dandiset_id, subject_id, session_id_shock)\n",
    "else:\n",
    "    nwbfile_shock, io_shock = load_nwb_local(local_directory, subject_id, session_id_shock)\n",
    "\n",
    "print(f\"Loaded session: {nwbfile_shock.session_description}\")"
   ]
  },
  {
   "cell_type": "code",
   "execution_count": null,
   "metadata": {},
   "outputs": [],
   "source": [
    "intervals_shock_df = nwbfile_shock.stimulus[\"auditory_stimulus_interval\"].to_dataframe()\n",
    "intervals_shock_df.head()"
   ]
  },
  {
   "cell_type": "code",
   "execution_count": null,
   "metadata": {},
   "outputs": [],
   "source": [
    "# Access demodulated signal for shock session\n",
    "module_shock = nwbfile_shock.processing[\"ophys\"]\n",
    "calcium_signal_shock = module_shock[\"calcium_signal\"]\n",
    "calcium_data_shock = calcium_signal_shock.data[:]\n",
    "isosbestic_data_shock = module_shock[\"isosbestic_signal\"].data[:]\n",
    "rate_shock = calcium_signal_shock.rate\n",
    "start_time_shock = calcium_signal_shock.starting_time\n",
    "timestamps_shock = start_time_shock + np.arange(len(calcium_data_shock)) / rate_shock\n",
    "\n",
    "print(f\"Shock session signal duration: {len(calcium_data_shock) / rate_shock:.2f} seconds\")"
   ]
  },
  {
   "cell_type": "code",
   "execution_count": null,
   "metadata": {},
   "outputs": [],
   "source": [
    "# Plot auditory stimulation and demodulated signal together\n",
    "fig, ax = plt.subplots(1, 1, figsize=(14, 6))\n",
    "\n",
    "# Plot demodulated calcium signal\n",
    "ax.plot(timestamps_shock, calcium_data_shock, color=\"blue\", linewidth=0.8, alpha=0.8, label=\"Calcium Signal\")\n",
    "ax.plot(timestamps_shock, isosbestic_data_shock, color=\"red\", linewidth=0.8, alpha=0.6, label=\"Isosbestic Signal\")\n",
    "ax.set_xlabel(\"Time (s)\")\n",
    "ax.set_ylabel(\"Demodulated Signal (a.u.)\")\n",
    "ax.set_title(\"Demodulated Calcium Signal with Auditory Stimulation (Paried or not with shocks)\")\n",
    "ax.grid(True, alpha=0.3)\n",
    "ax.legend()\n",
    "\n",
    "# Add stimulus intervals as faded boxes over the signal\n",
    "shock_colors = {\"shock\": \"red\", \"no shock\": \"blue\"}\n",
    "shock_labels = {\"shock\": \"paired with shock\", \"no shock\": \"not paired with shock\"}\n",
    "\n",
    "for i, row in intervals_shock_df.iterrows():\n",
    "    shock = row[\"paired_shock_stimulus\"]\n",
    "    color = shock_colors.get(shock, \"gray\")\n",
    "    ax.axvspan(\n",
    "        row[\"start_time\"],\n",
    "        row[\"stop_time\"],\n",
    "        color=color,\n",
    "        alpha=0.2,\n",
    "        label=shock_labels.get(shock, f\"{shock}\"),\n",
    "    )\n",
    "    # Remove duplicate legend entries\n",
    "    handles, labels = ax.get_legend_handles_labels()\n",
    "    by_label = dict(zip(labels, handles))\n",
    "    ax.legend(by_label.values(), by_label.keys())\n",
    "plt.tight_layout()\n",
    "plt.show()"
   ]
  },
  {
   "cell_type": "code",
   "execution_count": null,
   "metadata": {},
   "outputs": [],
   "source": [
    "# Clean up - close IO objects\n",
    "if 'io' in locals():\n",
    "    io.close()\n",
    "if 'io_freq' in locals():\n",
    "    io_freq.close()\n",
    "if 'io_shock' in locals():\n",
    "    io_shock.close()\n",
    "    \n",
    "print(\"Tutorial completed successfully!\")\n",
    "print(\"All IO objects have been closed.\")"
   ]
  }
 ],
 "metadata": {
  "kernelspec": {
   "display_name": "hnasko_lab_to_nwb_env",
   "language": "python",
   "name": "python3"
  },
  "language_info": {
   "codemirror_mode": {
    "name": "ipython",
    "version": 3
   },
   "file_extension": ".py",
   "mimetype": "text/x-python",
   "name": "python",
   "nbconvert_exporter": "python",
   "pygments_lexer": "ipython3",
   "version": "3.11.10"
  }
 },
 "nbformat": 4,
 "nbformat_minor": 4
}
