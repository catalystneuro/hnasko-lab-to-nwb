{
 "cells": [
  {
   "cell_type": "markdown",
   "metadata": {},
   "source": [
    "# **Fiber Photometry and Optogenetic Stimulation in SN GABAergic Neurons**\n",
    "\n",
    "This tutorial shows how to access and process data for the study detailed in the [preprint]() MISSING PREPRINT\n",
    "\n",
    "This dataset contains sessions with fiber photometry recordings, optogenetic stimulation TTL signals, shock delivery TTL signals, behavioral videos, and histological verification images, along with subject and session metadata.\n",
    "\n",
    "Contents:\n",
    "\n",
    "- [Streaming Data](#stream-nwb)\n",
    "- [Reading Data](#read-nwb)\n",
    "- [Access Fiber Photometry Signal](#access-photometry)\n",
    "- [Access Optogenetic and Shock TTLs](#access-ttls)\n",
    "- [Access Behavioral Videos](#access-behavior) MISSING \n",
    "- [Access Histology Images](#access-histology) MISSING\n",
    "- [Access Demodulated Fiber Photometry signals](#access-demod)\n",
    "\n",
    "A schematic representation of ... : MISSING  \n",
    "\n",
    "![Alt text](./hnasko-dataset-structure.png)  \n",
    "\n",
    "---"
   ]
  },
  {
   "cell_type": "markdown",
   "metadata": {},
   "source": [
    "# Select the subject and session to load"
   ]
  },
  {
   "cell_type": "code",
   "execution_count": null,
   "metadata": {},
   "outputs": [],
   "source": [
    "dandi_id = \"\"\n",
    "subject_id = \"C4561\"\n",
    "session_id = \"240117-163347\""
   ]
  },
  {
   "cell_type": "markdown",
   "metadata": {},
   "source": [
    "# Streaming an NWB file <a id=\"stream-nwb\"></a>\n",
    "\n",
    "This section demonstrates how to access the files on the [DANDI Archive](https://dandiarchive.org) without downloading them. Based on the [Streaming NWB files](https://pynwb.readthedocs.io/en/stable/tutorials/advanced_io/streaming.html) tutorial from [PyNWB](https://pynwb.readthedocs.io/en/stable/#).\n",
    "\n",
    "An [NWBFile](https://pynwb.readthedocs.io/en/stable/pynwb.file.html#pynwb.file.NWBFile) represents a single session of an experiment. Each NWBFile must have a `session description`, `identifier`, and `session start time`.\n",
    "\n",
    "The `dandi.dandiapi.DandiAPIClient` can be used to get the S3 URL of the NWB file stored in the DANDI Archive."
   ]
  },
  {
   "cell_type": "markdown",
   "metadata": {},
   "source": [
    "```python\n",
    "from dandi.dandiapi import DandiAPIClient\n",
    "\n",
    "nwbfile_path = f\"sub-{subject_id}/sub-{subject_id}_ses-{session_id}.nwb\"\n",
    "\n",
    "dandiset_id = \"\"\n",
    "with DandiAPIClient() as client:\n",
    "    #This line is necessary when the dataset is in embargoed mode and only owners can view the data, once it will be published this line can be removed.\n",
    "    client.dandi_authenticate() \n",
    "    asset = client.get_dandiset(dandiset_id, 'draft').get_asset_by_path(nwbfile_path)\n",
    "    s3_url = asset.get_content_url(follow_redirects=1, strip_query=False)\n",
    "\n",
    "import h5py\n",
    "import remfile\n",
    "from pynwb import NWBHDF5IO\n",
    "\n",
    "file = remfile.File(s3_url)\n",
    "h5_file = h5py.File(file, \"r\")\n",
    "io = NWBHDF5IO(file=h5_file, load_namespaces=True)\n",
    "```"
   ]
  },
  {
   "cell_type": "markdown",
   "metadata": {},
   "source": [
    "# Reading an NWB file locally<a id=\"read-nwb\"></a>\n",
    "\n",
    "\n",
    "This section demonstrates how to read an NWB file using `pynwb`.\n",
    "\n",
    "Based on the [NWB File Basics](https://pynwb.readthedocs.io/en/stable/tutorials/general/plot_file.html#sphx-glr-tutorials-general-plot-file-py) tutorial from [PyNWB](https://pynwb.readthedocs.io/en/stable/#).\n",
    "\n",
    "An [NWBFile](https://pynwb.readthedocs.io/en/stable/pynwb.file.html#pynwb.file.NWBFile) represents a single session of an experiment. Each NWBFile must have a `session description`, `identifier`, and `session start time`.\n",
    "\n",
    "Reading is carried out using the [NWBHDF5IO](https://pynwb.readthedocs.io/en/stable/pynwb.html#pynwb.NWBHDF5IO) class. To read the NWB file use the read mode (\"r\") to retrieve an NWBFile object.\n"
   ]
  },
  {
   "cell_type": "code",
   "execution_count": null,
   "metadata": {},
   "outputs": [],
   "source": [
    "from pynwb import NWBHDF5IO\n",
    "\n",
    "#adapt the path\n",
    "nwbfile_path = f\"/Users/daphnedequatrebarbes/Documents/Catalystneuro/hnasko-lab-to-nwb/nwb_output/sub-{subject_id}_ses-{session_id}.nwb\"\n",
    "io = NWBHDF5IO(path=nwbfile_path, load_namespaces=True)"
   ]
  },
  {
   "cell_type": "markdown",
   "metadata": {},
   "source": [
    "Importantly, the `session start time` is the reference time for all timestamps in the file. For instance, an event with a timestamp of 0 in the file means the event occurred exactly at the session start time.\n",
    "\n",
    "The `session_start_time` is extracted from all_sessions.Session datajoint table."
   ]
  },
  {
   "cell_type": "code",
   "execution_count": null,
   "metadata": {},
   "outputs": [],
   "source": [
    "nwbfile = io.read()\n",
    "nwbfile"
   ]
  },
  {
   "cell_type": "code",
   "execution_count": null,
   "metadata": {},
   "outputs": [],
   "source": [
    "nwbfile.session_start_time"
   ]
  },
  {
   "cell_type": "code",
   "execution_count": null,
   "metadata": {},
   "outputs": [],
   "source": [
    "nwbfile.experiment_description"
   ]
  },
  {
   "cell_type": "code",
   "execution_count": null,
   "metadata": {},
   "outputs": [],
   "source": [
    "nwbfile.session_description"
   ]
  },
  {
   "cell_type": "markdown",
   "metadata": {},
   "source": [
    "# Access subject <a name=\"access-subject\"></a>\n",
    "\n",
    "This section demonstrates how to access the [Subject](https://pynwb.readthedocs.io/en/stable/pynwb.file.html#pynwb.file.Subject) field in an NWB file.\n",
    "\n",
    "The [Subject](https://pynwb.readthedocs.io/en/stable/pynwb.file.html#pynwb.file.Subject) field can be accessed as `nwbfile.subject`.\n"
   ]
  },
  {
   "cell_type": "code",
   "execution_count": null,
   "metadata": {},
   "outputs": [],
   "source": [
    "nwbfile.subject"
   ]
  },
  {
   "cell_type": "markdown",
   "metadata": {},
   "source": [
    "# Access Fiber Photometry Data <a id=\"access-photometry\"></a>\n",
    "\n",
    "This section demonstraces how to access the raw Fiber Photometry data.\n",
    "\n",
    "`NWB` organizes data into different groups depending on the type of data. Groups can be thought of as folders within the file. Here are some of the groups within an NWBFile and the types of data they are intended to store:\n",
    "\n",
    "- `acquisition`: raw, acquired data that should never change\n",
    "- `processing`: processed data, typically the results of preprocessing algorithms and could change\n",
    "\n",
    "## Raw Modulated Fiber Photometry signal \n",
    "\n",
    "The raw fiber photometry response data is stored in [pynwb.ophys.FiberPhotometryResponseSeries](https://pynwb.readthedocs.io/en/stable/pynwb.ophys.html#pynwb.ophys.FiberPhotometryResponseSeries) object, which are added to `nwbfile.acquisition`.\n",
    "\n",
    "The data in FiberPhotometryResponseSeries is stored as a two-dimensional array:\n",
    "\n",
    "The first dimension corresponds to time (individual samples).\n",
    "The second dimension corresponds to recorded channels.\n",
    "Each row in the array represents a single time point, and each column corresponds to the signal recorded from a specific channel.\n",
    "\n"
   ]
  },
  {
   "cell_type": "code",
   "execution_count": null,
   "metadata": {},
   "outputs": [],
   "source": [
    "fiber_photometry_response_series = nwbfile.acquisition[\"raw_modulated_signal\"]\n",
    "fiber_photometry_response_series"
   ]
  },
  {
   "cell_type": "code",
   "execution_count": null,
   "metadata": {},
   "outputs": [],
   "source": [
    "import numpy as np\n",
    "from matplotlib import pyplot as plt\n",
    "\n",
    "# Define your window (start and end indices)\n",
    "start_idx = 1000\n",
    "end_idx = 1500\n",
    "\n",
    "# Get the data and timestamps properly\n",
    "data = np.array(fiber_photometry_response_series.data[start_idx:end_idx])\n",
    "timestamps = fiber_photometry_response_series.get_timestamps()[start_idx:end_idx]\n",
    "\n",
    "# Create a single plot\n",
    "fig, ax = plt.subplots(figsize=(8, 3), dpi=300)\n",
    "\n",
    "# Plot the raw fluorescence\n",
    "ax.plot(timestamps, data, color=\"green\", linewidth=0.8, label='Raw Modulated Fiber Photometry Signal')\n",
    "\n",
    "# Style the plot\n",
    "ax.spines['top'].set_visible(False)\n",
    "ax.spines['right'].set_visible(False)\n",
    "\n",
    "ax.legend(frameon=False, bbox_to_anchor=(.95, 1), loc='upper left', prop={'size': 8})\n",
    "ax.tick_params(axis='both', labelsize=8)\n",
    "\n",
    "plt.xlabel('Time (s)', fontsize=8)\n",
    "plt.ylabel('Fluorescence (a.u.)', fontsize=8)\n",
    "\n",
    "plt.show()"
   ]
  },
  {
   "cell_type": "markdown",
   "metadata": {},
   "source": [
    "\n",
    "## Raw Modulated Fiber Photometry metadata \n",
    "The fiber photometry metadata includes the type of indicator(s), optical fiber(s), excitation source(s), photodector(s), dichroic mirror(s), and optical filter(s) that were used to construct a single fluorescence signal.\n",
    "\n",
    "The metadata is stored in a `FiberPhotometryTable` object using [`ndx-fiber-photometry`](https://github.com/catalystneuro/ndx-fiber-photometry) and is added to `nwbfile.lab_meta_data`. It can be accessed as `nwbfile.lab_meta_data[\"FiberPhotometry\"].fiber_photometry_table`."
   ]
  },
  {
   "cell_type": "code",
   "execution_count": null,
   "metadata": {},
   "outputs": [],
   "source": [
    "fiber_photometry_table_region = nwbfile.lab_meta_data[\"fiber_photometry\"].fiber_photometry_table[:]\n",
    "fiber_photometry_table_region"
   ]
  },
  {
   "cell_type": "markdown",
   "metadata": {},
   "source": [
    "The metadata on the optical fiber used to record the GCaMP fluorescence is added to `nwbfile.devices` and can be accessed as `nwbfile.devices[\"Fiber1\"]` or can be accessed from the referenced optical fiber in the `fiber_photometry_table_region` of the `FiberPhotometryResponseSeries`."
   ]
  },
  {
   "cell_type": "code",
   "execution_count": null,
   "metadata": {},
   "outputs": [],
   "source": [
    "fiber_photometry_table_region[\"optical_fiber\"][0]"
   ]
  },
  {
   "cell_type": "code",
   "execution_count": null,
   "metadata": {},
   "outputs": [],
   "source": [
    "fiber_photometry_table_region[\"indicator\"][0]"
   ]
  },
  {
   "cell_type": "code",
   "execution_count": null,
   "metadata": {},
   "outputs": [],
   "source": [
    "fiber_photometry_table_region[\"excitation_source\"][0]"
   ]
  },
  {
   "cell_type": "code",
   "execution_count": null,
   "metadata": {},
   "outputs": [],
   "source": [
    "fiber_photometry_table_region[\"photodetector\"][0]"
   ]
  },
  {
   "cell_type": "code",
   "execution_count": null,
   "metadata": {},
   "outputs": [],
   "source": [
    "fiber_photometry_table_region[\"dichroic_mirror\"][0]"
   ]
  },
  {
   "cell_type": "code",
   "execution_count": null,
   "metadata": {},
   "outputs": [],
   "source": [
    "fiber_photometry_table_region[\"excitation_source\"][0]"
   ]
  },
  {
   "cell_type": "markdown",
   "metadata": {},
   "source": [
    "# Access Optogenetic Stimulation Data <a name=\"access-ttls\"></a>\n",
    "\n",
    "This section demonstrates how to access the optogenetic stimulation events recorded during the experiment.\n",
    "\n",
    "In NWB format, externally generated stimuli such as laser pulses are typically stored as TimeSeries objects within the nwbfile.stimulus group. These signals capture event timing and are often recorded as TTL pulses synchronized with the acquisition system.\n",
    "\n",
    "In this dataset, optogenetic stimulation was applied using TTL signals with varying frequencies (5 Hz, 10 Hz, 20 Hz, 40 Hz) and durations (250 ms, 1 s, 4 s), across multiple trials. The TTL events are used to align stimulation timing with fluorescence recordings for downstream analysis.\n",
    "\n",
    "The optogenetic TTL timestamps can be accessed as:"
   ]
  },
  {
   "cell_type": "code",
   "execution_count": null,
   "metadata": {},
   "outputs": [],
   "source": [
    "optogenetic_stimulus_interval = nwbfile.stimulus[\"optogenetic_stimulus_interval\"]\n",
    "optogenetic_stimulus_interval"
   ]
  },
  {
   "cell_type": "code",
   "execution_count": null,
   "metadata": {},
   "outputs": [],
   "source": [
    "\n",
    "optogenetic_stimulus_interval.to_dataframe().head(5)"
   ]
  },
  {
   "cell_type": "code",
   "execution_count": null,
   "metadata": {},
   "outputs": [],
   "source": [
    "optogenetic_series = nwbfile.stimulus[\"optogenetic_series\"]\n",
    "optogenetic_series.data"
   ]
  },
  {
   "cell_type": "code",
   "execution_count": null,
   "metadata": {},
   "outputs": [],
   "source": [
    "optogenetic_series"
   ]
  },
  {
   "cell_type": "code",
   "execution_count": null,
   "metadata": {},
   "outputs": [],
   "source": [
    "data = optogenetic_series.data[:]\n",
    "timestamps = optogenetic_series.timestamps[:]\n",
    "\n",
    "print(f\"Data shape: {data.shape}\")\n",
    "print(f\"Timestamps shape: {timestamps.shape}\")\n",
    "print(f\"Duration: {timestamps[-1] - timestamps[0]:.2f} seconds\")"
   ]
  },
  {
   "cell_type": "code",
   "execution_count": null,
   "metadata": {},
   "outputs": [],
   "source": [
    "plt.figure(figsize=(12, 4))\n",
    "plt.plot(timestamps, data, lw=0.8)\n",
    "plt.xlabel(\"Time (s)\")\n",
    "plt.ylabel(\"Laser Power (W)\")\n",
    "plt.title(\"Optogenetic Stimulation Time Series\")\n",
    "plt.grid(True)\n",
    "plt.tight_layout()\n",
    "plt.show()\n"
   ]
  },
  {
   "cell_type": "code",
   "execution_count": null,
   "metadata": {},
   "outputs": [],
   "source": [
    "# Define manual time windows \n",
    "block_windows = [\n",
    "    (100, 600),   # Block 1\n",
    "    (700, 1200),  # Block 2\n",
    "    (1300, 1750)  # Block 3\n",
    "]\n",
    "\n",
    "# Plot each block\n",
    "fig, axes = plt.subplots(3, 1, figsize=(12, 8), sharey=True)\n",
    "\n",
    "for i, (start, end) in enumerate(block_windows):\n",
    "    mask = (timestamps >= start) & (timestamps <= end)\n",
    "    axes[i].plot(timestamps[mask], data[mask])\n",
    "    axes[i].set_title(f\"Optogenetic Stimulation - Block {i+1}\")\n",
    "    axes[i].set_xlabel(\"Time (s)\")\n",
    "    axes[i].set_ylabel(\"Laser Power (W)\")\n",
    "    axes[i].grid(True)\n",
    "\n",
    "plt.tight_layout()\n",
    "plt.show()"
   ]
  },
  {
   "cell_type": "markdown",
   "metadata": {},
   "source": [
    "# Access Behavioral Videos <a name=\"access-behavior\"></a>\n"
   ]
  },
  {
   "cell_type": "markdown",
   "metadata": {},
   "source": [
    "# Access Histology Images <a name=\"access-histology\"></a>"
   ]
  },
  {
   "cell_type": "markdown",
   "metadata": {},
   "source": [
    "# Accessing the Demodulated Fiber Photometry Response Data <a name=\"access-demod\"></a>\n",
    "\n",
    "The demodulated fluorescence signals from fiber photometry recordings are stored in `nwbfile.processing[\"ophys\"]`.\n",
    "\n",
    "## Demodulated Fiber Photometry Signals\n",
    "\n",
    "In NWB, the [`FiberPhotometryResponseSeries`](https://pynwb.readthedocs.io/en/stable/pynwb.ophys.html#pynwb.ophys.FiberPhotometryResponseSeries) class is used to store time-varying fluorescence signals from one or more optical channels, such as calcium-dependent (e.g., 465 nm) and isosbestic control (e.g., 405 nm) signals.\n",
    "\n",
    "We can access the demodulated fiber photometry data for each channel using:"
   ]
  },
  {
   "cell_type": "code",
   "execution_count": null,
   "metadata": {},
   "outputs": [],
   "source": [
    "nwbfile.processing[\"ophys\"][\"calcium_signal\"]\n",
    "nwbfile.processing[\"ophys\"][\"isosbestic_signal\"]"
   ]
  },
  {
   "cell_type": "code",
   "execution_count": null,
   "metadata": {},
   "outputs": [],
   "source": [
    "# Access both signals\n",
    "module = nwbfile.processing[\"ophys\"]\n",
    "isosbestic = module[\"isosbestic_signal\"]\n",
    "calcium = module[\"calcium_signal\"] \n",
    "\n",
    "# Extract data and sampling info\n",
    "rate = isosbestic.rate\n",
    "start_time = isosbestic.starting_time\n",
    "\n",
    "# Load data\n",
    "isosb_data = isosbestic.data[:]\n",
    "calcium_data = calcium.data[:]\n",
    "\n",
    "# Build timestamps (assume both have the same sampling rate and start time)\n",
    "timestamps = start_time + np.arange(isosbestic.data.shape[0]) / rate\n",
    "\n",
    "# Select a 10-second window\n",
    "duration = 10  # seconds\n",
    "samples = int(duration * rate)\n",
    "\n",
    "# Plot both signals\n",
    "plt.figure(figsize=(14, 5))\n",
    "plt.plot(timestamps[:samples], isosb_data[:samples], label=\"Isosbestic (405 nm)\", alpha=0.7)\n",
    "plt.plot(timestamps[:samples], calcium_data[:samples], label=\"Calcium (465 nm)\", alpha=0.7)\n",
    "plt.xlabel(\"Time (s)\")\n",
    "plt.ylabel(\"Fluorescence (a.u.)\")\n",
    "plt.title(\"Demodulated Fiber Photometry Signals (first 10 seconds)\")\n",
    "plt.legend()\n",
    "plt.grid(True)\n",
    "plt.tight_layout()\n",
    "plt.show()\n"
   ]
  },
  {
   "cell_type": "markdown",
   "metadata": {},
   "source": [
    "## Demodulated Fiber Photometry metadas"
   ]
  },
  {
   "cell_type": "code",
   "execution_count": null,
   "metadata": {},
   "outputs": [],
   "source": [
    "# Access the isosbestic signal object\n",
    "isosbestic = nwbfile.processing[\"ophys\"][\"isosbestic_signal\"]\n",
    "table = isosbestic.fiber_photometry_table_region\n",
    "\n",
    "table.to_dataframe()"
   ]
  }
 ],
 "metadata": {
  "kernelspec": {
   "display_name": "catalystneuro",
   "language": "python",
   "name": "python3"
  },
  "language_info": {
   "codemirror_mode": {
    "name": "ipython",
    "version": 3
   },
   "file_extension": ".py",
   "mimetype": "text/x-python",
   "name": "python",
   "nbconvert_exporter": "python",
   "pygments_lexer": "ipython3",
   "version": "3.9.18"
  }
 },
 "nbformat": 4,
 "nbformat_minor": 2
}
